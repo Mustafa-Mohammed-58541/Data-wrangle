{
 "cells": [
  {
   "cell_type": "markdown",
   "metadata": {},
   "source": [
    "### WeRateDogs report analysis"
   ]
  },
  {
   "cell_type": "markdown",
   "metadata": {},
   "source": [
    "Gathering the Data :\n",
    "\n",
    "● We have used the following three pieces of data in a Jupyter Notebook titled\n",
    "wrangle_act.ipynb:\n",
    "\n",
    "a. The “WeRateDogs” Twitter archive. The file has been downloaded manually.\n",
    "Link : data/twitter_archive_enhanced.csv\n",
    "\n",
    "b. The Tweet Image Predictions.\n",
    "This file (image_predictions.tsv) is hosted on Udacity's servers and was\n",
    "downloaded programmatically using the Requests library and the following\n",
    "URL:\n",
    "https://d17h27t6h515a5.cloudfront.net/topher/2017/August/599fd2ad_image\n",
    "-predictions/image-predictions.tsv\n",
    "\n",
    "c. Using the tweet IDs in the WeRateDogs Twitter archive, query the Twitter API for each tweet's JSON data using Python's Tweepy library and store each tweet's\n",
    "entire set of JSON data in a file called tweet_json.txt file."
   ]
  },
  {
   "cell_type": "markdown",
   "metadata": {},
   "source": [
    "##### most of people have quiet dogs they want to post  and hav social account but they didnt know how to mange their acount very wel . they didnt know which dogs  have favourit and count tweet .  so we ask two question to help them."
   ]
  },
  {
   "cell_type": "markdown",
   "metadata": {},
   "source": [
    "1. Which stage of dogs got the highest retweet counts and\n",
    "    favorite counts?"
   ]
  },
  {
   "cell_type": "markdown",
   "metadata": {},
   "source": [
    "2. Is number of tweets posted by WeRateDogs' over time increase or decrease?"
   ]
  },
  {
   "cell_type": "markdown",
   "metadata": {},
   "source": [
    "###### Before going into the analysis, we need to understand our\n",
    "limitation and whether other factor in WeRateDogs affect the\n",
    "favorite and retweet counts :\n",
    "- limitation:\n",
    "  Limitation 1 :-> There are only 15% of the data have stages means the\n",
    "  analysis about stages will will be 85% degree inaccurate.\n",
    "- Limitation 2:-> There are 80% of the data have predicted breeds means the\n",
    "   future prediction about breeds will be around 20% degree inaccurate."
   ]
  },
  {
   "cell_type": "markdown",
   "metadata": {},
   "source": [
    "##### Other considreation  in WeRateDogs:\n",
    "1 whether the ratings in WeRateDogs' posts affect the results?"
   ]
  },
  {
   "cell_type": "markdown",
   "metadata": {},
   "source": [
    "<img src=\"download.png\" width=\"800\" height=\"400\">\n"
   ]
  },
  {
   "cell_type": "markdown",
   "metadata": {},
   "source": [
    "<img src=\"download (4).png\" width=\"800\" height=\"400\">\n"
   ]
  },
  {
   "cell_type": "markdown",
   "metadata": {},
   "source": [
    "From this information, we can tell that the ratings given by WeRateDogs' posts\n",
    "highly affected the results, which means the results can be manipulated by the\n",
    "content write"
   ]
  },
  {
   "cell_type": "markdown",
   "metadata": {},
   "source": [
    "insight rating have relation with retweet count and retweet favourite"
   ]
  },
  {
   "cell_type": "markdown",
   "metadata": {},
   "source": [
    "### 1. Which stage of dogs got the highest retweet counts and favorite counts?"
   ]
  },
  {
   "cell_type": "markdown",
   "metadata": {},
   "source": [
    "<img src=\"download (2).png\" width=\"800\" height=\"400\">"
   ]
  },
  {
   "cell_type": "markdown",
   "metadata": {},
   "source": [
    "insight: puppo ,doggo and floofer got the heighest retweet_ count so the top 3 \n",
    "is puppo adn doggo adn floofer  lets see if it will be the same top 3 for the favourite tweet ."
   ]
  },
  {
   "cell_type": "markdown",
   "metadata": {},
   "source": [
    "<img src=\"download (1).png\" width=\"800\" height=\"400\">"
   ]
  },
  {
   "cell_type": "markdown",
   "metadata": {},
   "source": [
    "Insight: The stage of Puppo got the highest retweet counts and favorite\n",
    "counts, which is almost 3 times higher than the breed of pupper\n",
    "its the same as retwet count and favourite count top 3 are the same. "
   ]
  },
  {
   "cell_type": "markdown",
   "metadata": {},
   "source": []
  },
  {
   "cell_type": "markdown",
   "metadata": {},
   "source": [
    "### Is number of tweets posted by WeRateDogs' over time increase or decrease?\n"
   ]
  },
  {
   "cell_type": "markdown",
   "metadata": {},
   "source": [
    "<img src=\"tweet_trend.png\" width=\"800\" height=\"400\">"
   ]
  },
  {
   "cell_type": "markdown",
   "metadata": {},
   "source": [
    "the number of tweets  is decreasing over time "
   ]
  },
  {
   "cell_type": "markdown",
   "metadata": {},
   "source": [
    "<img src=\"ret_fav.png\" width=\"800\" height=\"400\">"
   ]
  },
  {
   "cell_type": "markdown",
   "metadata": {},
   "source": [
    "so number of retweets and favorites tweets are increasing over time"
   ]
  },
  {
   "cell_type": "markdown",
   "metadata": {},
   "source": [
    "The above plot shows an increasing trend of retweeting and favoriting tweets posted by WeRateDogs' since\n",
    "November, 2015. However, the favoriting trend shows a much higher increase with time as compared to the\n",
    "retweeting trend."
   ]
  },
  {
   "cell_type": "code",
   "execution_count": null,
   "metadata": {},
   "outputs": [],
   "source": []
  }
 ],
 "metadata": {
  "kernelspec": {
   "display_name": "Python 3",
   "language": "python",
   "name": "python3"
  },
  "language_info": {
   "codemirror_mode": {
    "name": "ipython",
    "version": 3
   },
   "file_extension": ".py",
   "mimetype": "text/x-python",
   "name": "python",
   "nbconvert_exporter": "python",
   "pygments_lexer": "ipython3",
   "version": "3.6.3"
  }
 },
 "nbformat": 4,
 "nbformat_minor": 2
}
